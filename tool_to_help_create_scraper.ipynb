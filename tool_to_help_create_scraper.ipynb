{
 "cells": [
  {
   "cell_type": "code",
   "execution_count": null,
   "metadata": {},
   "outputs": [],
   "source": [
    "from bs4 import BeautifulSoup\n",
    "import datetime\n",
    "import os\n",
    "from dateutil.parser import parse\n",
    "import time"
   ]
  },
  {
   "cell_type": "code",
   "execution_count": null,
   "metadata": {},
   "outputs": [],
   "source": [
    "def create_soup(file_path):\n",
    "    '''Creates the soup'''\n",
    "    return BeautifulSoup(open(file_path), \"html.parser\")"
   ]
  },
  {
   "cell_type": "code",
   "execution_count": null,
   "metadata": {},
   "outputs": [],
   "source": [
    "path = '/Users/ronaldwarmels/Projects/Anita/GIT_ANITA/01_trend analysis/DATA/NEW_DATA/2019_03_13 blackmarkets/CGMC/'\n",
    "product = 'Custom Order_Tip Jar  CannaHome.html'\n",
    "procuct_no_feedback ='CUSTOM SUBU  CannaHome.html'\n",
    "product2 ='Gorilla Glue GG4_ 28 Grams  CannaHome.html'\n",
    "vendor = 'CatsNamedPablo  CannaHome.html'\n",
    "\n",
    "path = '/Users/ronaldwarmels/Projects/Anita/GIT_ANITA/01_trend analysis/DATA/NEW_DATA/2020_04_02_darkmarket_test/'\n",
    "path = '/Users/ronaldwarmels/Projects/Anita/GIT_ANITA/01_trend analysis/DATA/DATA_RAW/darkmarket/'\n",
    "\n",
    "\n",
    "\n"
   ]
  },
  {
   "cell_type": "code",
   "execution_count": null,
   "metadata": {},
   "outputs": [],
   "source": [
    "def open_folder(folder_path):\n",
    "    '''Return a list of all .htm and .html files in the folder'''\n",
    "    return [os.path.join(root, name)\n",
    "                        for root, dirs, files in os.walk(folder_path)\n",
    "                        for name in files\n",
    "                        if name.endswith((\".html\", \".htm\"))]"
   ]
  },
  {
   "cell_type": "code",
   "execution_count": null,
   "metadata": {},
   "outputs": [],
   "source": [
    "len(open_folder(path))"
   ]
  },
  {
   "cell_type": "code",
   "execution_count": null,
   "metadata": {
    "scrolled": true
   },
   "outputs": [],
   "source": [
    "def run_test_all(all_files):\n",
    "    print_list = []\n",
    "    for html in sorted(all_files, reverse=True):\n",
    "        soup = create_soup(html)\n",
    "#         date = time.mktime(\n",
    "#             datetime.datetime.strptime('/'.join(html.split('/')[-1].split('_')[0:3]), '%Y/%m/%d').timetuple())\n",
    "\n",
    "        ####PRODUCT #'Product Details'\n",
    "        try:\n",
    "            if soup.find('h2', {'class': 'title text-center'}).text == 'Vendor Profile':\n",
    "                print('v')\n",
    "                print(v_feedback(soup))\n",
    "        \n",
    "        except:\n",
    "            pass\n",
    "\n",
    "        \n",
    "        ###VENDOR 'Vendor Profile'\n",
    "        try:\n",
    "            pass\n",
    "        except:\n",
    "            pass\n",
    "    return print_list\n",
    "run_test_all(open_folder(path))"
   ]
  },
  {
   "cell_type": "code",
   "execution_count": null,
   "metadata": {},
   "outputs": [],
   "source": [
    "def v_feedback(soup):\n",
    "    \"\"\" Return the feedback for the vendors\"\"\"\n",
    "    feedback_list = []\n",
    "\n",
    "    # loop to walk through the feedback\n",
    "    for review in soup.find_all('div', {'class': 'row center-reviews'}):\n",
    "\n",
    "        # Find the score, can be numerical score: (score, scale), or 'positive', 'negative' or 'neutral' for pos/neg\n",
    "        # scores.\n",
    "        if review.find('span', {'class': 'badge badge-positive'}):\n",
    "            score = 'positive'\n",
    "        elif review.find('span', {'class': 'badge badge-negative'}):\n",
    "            score = 'negative'\n",
    "        else:\n",
    "            score = None\n",
    "\n",
    "        # The message of the feedback in type str\n",
    "        message = list(review.find('div', {'class': 'col-xs-6'}).stripped_strings)[0]\n",
    "\n",
    "        # The time in datetime object or time ago in type str\n",
    "        date = parse(review.find('em').text)\n",
    "        \n",
    "        # Name of the product that the feedback is about (if any) in type str\n",
    "        product = review.find('a').text\n",
    "\n",
    "        # User, name of the user or encrypted user name (if any) in type str\n",
    "        user = None  # Non existent\n",
    "\n",
    "        # Deals by user (if any) in type int or str (if range)\n",
    "        deals = None  # Non existent\n",
    "\n",
    "        # in json format\n",
    "        feedback_json = {\n",
    "            'score': score,\n",
    "            'message': message,\n",
    "            'date': date,\n",
    "            'product': product,\n",
    "            'user': user,\n",
    "            'deals': deals\n",
    "        }\n",
    "        feedback_list.append(feedback_json)\n",
    "\n",
    "    return feedback_list"
   ]
  },
  {
   "cell_type": "code",
   "execution_count": null,
   "metadata": {},
   "outputs": [],
   "source": [
    "    #loop to walk through the feedback\n",
    "    for item in soup.find('div', {'class': 'embedded-feedback-list'}).find('tbody').find_all('tr'):\n",
    "\n",
    "        # Find the score, can be numerical score: (score, scale), or 'positive', 'negative' or 'neutral' for pos/neg scores.\n",
    "        score  =  (int(item('td')[0].text[0]),5)\n",
    "\n",
    "        # The message of the feedback in type str\n",
    "        message =  item('td')[1].text\n",
    "\n",
    "        # The time in datetime object or time ago in type str\n",
    "        date = item('td')[3].text\n",
    "\n",
    "        # Name of the product that the feedback is about (if any) in type str\n",
    "        product = ' '.join(item('td')[2].text.split())\n",
    "\n",
    "        # User, name of the user or encrypted user name (if any) in type str\n",
    "        user = item('td')[4].text.split()[0]\n",
    "\n",
    "        # Deals by user (if any) in type int or str (if range)\n",
    "        deals = ' '.join(item('td')[4].text.split()[-4:])"
   ]
  },
  {
   "cell_type": "code",
   "execution_count": null,
   "metadata": {},
   "outputs": [],
   "source": [
    "# def feedback_handler(feedback_list, file_date):\n",
    "#     \"\"\"Static method to export all the feedback\n",
    "#     Feedback_list is the list of given feedback.\n",
    "#     Returns the feedback list with appropriate formatted time\"\"\"\n",
    "#     for p, feedback in enumerate(feedback_list):\n",
    "#         if type(feedback['date']) == datetime.datetime:\n",
    "#             date = feedback['date'].date()\n",
    "#             # calculate the precision of the given time, this the possible deviation there is\n",
    "#             feedback_list[p]['date_deviation'] = determine_date_deviation(feedback['date'])\n",
    "#             # Give the date in appropriate time format\n",
    "#             if date is not None:\n",
    "#                 feedback_list[p]['date'] = time.mktime(date.timetuple())\n",
    "#             else:\n",
    "#                 feedback_list[p]['date'] = None\n",
    "#                 continue\n",
    "#         elif type(feedback['date']) == str:\n",
    "#             date = calculate_time_since(feedback['date'], file_date)\n",
    "#             # calculate the precision of the given time, this the possible deviation there is\n",
    "#             feedback_list[p]['date_deviation'] = determine_date_deviation(feedback['date'])\n",
    "#             # Give the date in appropriate time format\n",
    "#             if date is not None:\n",
    "#                 feedback_list[p]['date'] = time.mktime(date.timetuple())\n",
    "#             else:\n",
    "#                 feedback_list[p]['date'] = None\n",
    "#                 continue\n",
    "#         else:\n",
    "#             # calculate the precision of the given time, this the possible deviation there is\n",
    "#             feedback_list[p]['date_deviation'] = None\n",
    "#             # Give the date in appropriate time format\n",
    "#             feedback_list[p]['date'] = None\n",
    "\n",
    "#     return feedback_list"
   ]
  },
  {
   "cell_type": "code",
   "execution_count": null,
   "metadata": {},
   "outputs": [],
   "source": [
    "    def feedback_handler(feedback_list, file_date):\n",
    "        \"\"\"Static method to export all the feedback\n",
    "        Feedback_list is the list of given feedback.\n",
    "        Returns the feedback list with appropriate formatted time\"\"\"\n",
    "        for p, feedback in enumerate(feedback_list):\n",
    "            if type(feedback['date']) == datetime.datetime:\n",
    "                date = feedback['date'].date()\n",
    "                # calculate the precision of the given time, this the possible deviation there is\n",
    "                feedback_list[p]['date_deviation'] = determine_date_deviation(feedback['date'])\n",
    "                # Give the date in appropriate time format\n",
    "                feedback_list[p]['date'] = time.mktime(date.timetuple())\n",
    "            elif type(feedback['date']) == str:\n",
    "                date = calculate_time_since(feedback['date'], file_date)\n",
    "                # calculate the precision of the given time, this the possible deviation there is\n",
    "                feedback_list[p]['date_deviation'] = determine_date_deviation(feedback['date'])\n",
    "                # Give the date in appropriate time format\n",
    "                feedback_list[p]['date'] = time.mktime(date.timetuple())\n",
    "            else:\n",
    "                # calculate the precision of the given time, this the possible deviation there is\n",
    "                feedback_list[p]['date_deviation'] = None\n",
    "                # Give the date in appropriate time format\n",
    "                feedback_list[p]['date'] = None\n",
    "\n",
    "        return feedback_list"
   ]
  },
  {
   "cell_type": "code",
   "execution_count": null,
   "metadata": {},
   "outputs": [],
   "source": [
    "def determine_date_deviation(date):\n",
    "    \"\"\"Calculate the precision of the relative time.\n",
    "    For example if the relative time was: 2 months ago, then the date is precise up to a month\n",
    "    If it says 1 day ago, the precision is a day\"\"\"\n",
    "    if type(date) == str:\n",
    "        date = date.lower().split()\n",
    "        length_idx = len(date) - 1\n",
    "        while length_idx >= 0:\n",
    "            if 'today' in date[length_idx].lower():\n",
    "                return 'day'\n",
    "            if 'year' in date[length_idx].lower():\n",
    "                return 'year'\n",
    "            if 'month' in date[length_idx].lower():\n",
    "                return 'month'\n",
    "            if 'week' in date[length_idx].lower():\n",
    "                return 'week'\n",
    "            if 'day' in date[length_idx].lower():\n",
    "                return 'day'\n",
    "            if 'hour' in date[length_idx].lower():\n",
    "                return 'day'\n",
    "            if 'minute' in date[length_idx].lower():\n",
    "                return 'day'\n",
    "            if 'second' in date[length_idx].lower():\n",
    "                return 'day'\n",
    "\n",
    "            length_idx -= 1\n",
    "    if type(date) == datetime.date:\n",
    "        return 'exact date'\n",
    "    if type(date) == datetime.datetime:\n",
    "        return 'exact date'"
   ]
  },
  {
   "cell_type": "code",
   "execution_count": null,
   "metadata": {},
   "outputs": [],
   "source": [
    "    def calculate_time_since(since, file_date):\n",
    "        \"\"\"Calculates the date in a timestamp\n",
    "        since is the string with the relative date, mostly in this format: '2 months ago'\n",
    "        file_date is the date of the file itself\"\"\"\n",
    "        since = since.lower().split()\n",
    "        timestamp = file_date\n",
    "        time_since_unix = 0\n",
    "\n",
    "        # add the time mentioned in the string to the unix time\n",
    "        for p, item in enumerate(since):\n",
    "            item = item.lower()\n",
    "            value = since[p - 1].replace('~', '')\n",
    "            if 'today' in item:\n",
    "                return datetime.datetime.fromtimestamp(file_date).date()\n",
    "\n",
    "            if 'years' in item:\n",
    "                years = value\n",
    "                time_since_unix += 31556926 * int(years)\n",
    "            elif 'year' in item:\n",
    "                time_since_unix += 31556926\n",
    "            if 'months' in item:\n",
    "                months = value\n",
    "                time_since_unix += 2629743.83 * int(months)\n",
    "            elif 'month' in item:\n",
    "                time_since_unix += 2629743.83\n",
    "            if 'weeks' in item:\n",
    "                weeks = value\n",
    "                time_since_unix += 604800 * int(weeks)\n",
    "            elif 'week' in item:\n",
    "                time_since_unix += 604800\n",
    "            if 'days' in item:\n",
    "                days = value\n",
    "                time_since_unix += 86400 * int(days)\n",
    "            elif 'day' in item:\n",
    "                time_since_unix += 86400\n",
    "        # calculate the relative time\n",
    "        time_since = timestamp - time_since_unix\n",
    "        return datetime.datetime.fromtimestamp(time_since).date()"
   ]
  },
  {
   "cell_type": "code",
   "execution_count": null,
   "metadata": {},
   "outputs": [],
   "source": [
    "def v_feedback(soup):\n",
    "    \"\"\" Return the feedback for the vendors\"\"\"\n",
    "    feedback_list = []\n",
    "\n",
    "    # loop to walk through the feedback\n",
    "    if soup.find('div', {'class': 'row mt-3'}):\n",
    "        if soup.find('div', {'class': 'row mt-3'}).find('tbody'):\n",
    "            if soup.find('div', {'class': 'row mt-3'}).find('tbody').find('tr'):\n",
    "                for review in soup.find('div', {'class': 'row mt-3'}).find('tbody').find_all('tr'):\n",
    "                    try:\n",
    "                        score = None\n",
    "                        # Find the score, can be numerical score: (score, scale), or 'positive', 'negative' or 'neutral' for pos/neg scores.\n",
    "                        if review.find_all('td')[0].find('span').find('span', {'class': \"fas fa-plus-circle text-success\"}):\n",
    "                            score = 'positive'\n",
    "                        elif review.find_all('td')[0].find('span').find('span', {'class': \"fas fa-minus-circle text-danger\"}):\n",
    "                            score = 'negative'\n",
    "                        elif review.find_all('td')[0].find('span').find('span', {'class': \"fas fa-stop-circle text-secondary\"}):\n",
    "                            score = 'neutral'\n",
    "\n",
    "                        # The message of the feedback in type str\n",
    "                        message = review.find_all('td')[0].find('span').text\n",
    "\n",
    "                        # The time in datetime object or time ago in type str\n",
    "                        date = review.find_all('td')[2].text.replace('\\n', '')\n",
    "\n",
    "                        # Name of the product that the feedback is about (if any) in type str\n",
    "                        product = review.find_all('td')[0].find_all('span')[3].text\n",
    "\n",
    "                        # User, name of the user or encrypted user name (if any) in type str\n",
    "                        user = review.find_all('td')[1].find('span').text.split('Buyer: ')[1].replace('\\n', '')\n",
    "\n",
    "                        # Deals by user (if any) in type int or str (if range)\n",
    "                        deals = None  # non existent\n",
    "\n",
    "                        # in json format\n",
    "                        feedback_json = {\n",
    "                            'score': score,\n",
    "                            'message': message,\n",
    "                            'date': date,\n",
    "                            'product': product,\n",
    "                            'user': user,\n",
    "                            'deals': deals\n",
    "                        }\n",
    "                        feedback_list.append(feedback_json)\n",
    "                    except IndexError:\n",
    "                        continue\n",
    "                    except AttributeError:\n",
    "                        continue\n",
    "\n",
    "    return feedback_list"
   ]
  },
  {
   "cell_type": "code",
   "execution_count": null,
   "metadata": {},
   "outputs": [],
   "source": [
    "file = '/Users/ronaldwarmels/Projects/Anita/GIT_ANITA/01_trend analysis/DATA/NEW_DATA/[to do] 2020-04-02 11_30_15.765174/darkmarketsomqvzqfjudpd6t5eabgvvpplrbtzq6prervyogenlrlqd.onion/product/1b0ed690-4388-11ea-a1d2-c17fdcbe34dc/feedback#productsmenu.html'"
   ]
  },
  {
   "cell_type": "code",
   "execution_count": null,
   "metadata": {},
   "outputs": [],
   "source": [
    "create_soup(file).find('table', {'class' : 'table table-striped'}).find_all('tr')[0].find_all('td')[0]"
   ]
  },
  {
   "cell_type": "code",
   "execution_count": null,
   "metadata": {},
   "outputs": [],
   "source": [
    "price_list = [' '.join(item.text.split()) for item in soup.find('table', {'ui very basic table'}).find_all('td')]\n",
    "i = 0\n",
    "price_dict = dict()\n",
    "while i < len(price_list):\n",
    "    price_dict[price_list[i]] = price_list[i + 1]\n",
    "    i += 2\n",
    "return price_dict"
   ]
  },
  {
   "cell_type": "code",
   "execution_count": null,
   "metadata": {},
   "outputs": [],
   "source": [
    "def p_ships_to(soup):\n",
    "    \"\"\"Return where the package can be delivered to as string\n",
    "    If multiple; provide in a list\"\"\"\n",
    "    ships_to = None\n",
    "    data = soup.find('div', {'class', 'mt-4'}).find_all('p')\n",
    "    for string in data:\n",
    "        if 'Ships all' in string.text:\n",
    "            ships_to = string.find('em').text.split(',')\n",
    "            if ships_to == ['']:\n",
    "                ships_to = None\n",
    "    return data"
   ]
  },
  {
   "cell_type": "code",
   "execution_count": null,
   "metadata": {},
   "outputs": [],
   "source": [
    "def p_ships_from(soup):\n",
    "    \"\"\"Return the place from where the package is delivered as string\"\"\"\n",
    "    # example: return soup.find('div', {\"table_wrapper\"}).find_all('td')[3].text\n",
    "    ships_from = None\n",
    "    data = soup.find('div', {'class', 'mt-4'}).find_all('p')\n",
    "    for string in data:\n",
    "        if 'Ships from' in string.text:\n",
    "            ships_from = string.find('strong').text\n",
    "    return ships_from"
   ]
  },
  {
   "cell_type": "code",
   "execution_count": null,
   "metadata": {},
   "outputs": [],
   "source": [
    "'/Users/ronaldwarmels/Projects/Anita/GIT_ANITA/01_trend analysis/DATA/NEW_DATA/2020_04_02_darkmarket_test/'"
   ]
  },
  {
   "cell_type": "code",
   "execution_count": null,
   "metadata": {},
   "outputs": [],
   "source": [
    "test_path = '/Users/ronaldwarmels/Projects/Anita/GIT_ANITA/01_trend analysis/DATA/NEW_DATA/2020_04_02_darkmarket_test/'"
   ]
  },
  {
   "cell_type": "code",
   "execution_count": null,
   "metadata": {},
   "outputs": [],
   "source": [
    "test_path[-2]\n",
    "'/'.join(test_path.split('/')[:-2])"
   ]
  },
  {
   "cell_type": "code",
   "execution_count": null,
   "metadata": {},
   "outputs": [],
   "source": [
    "base_path = '/'.join(test_path.split('/')[:-2]) + '/'\n",
    "if '.zip' in test_path.split('/')[-1]:\n",
    "    print(base_path + test_path.split('/')[-1].split('.zip')[0]+'_EXPORTED')\n",
    "else: \n",
    "    if test_path[-1] != '/':\n",
    "        base_path = '/'.join(test_path.split('/')[:-1]) + '/'\n",
    "        print(base_path + test_path.split('/')[-1]+'_EXPORTED')\n",
    "    else:\n",
    "        print(base_path + test_path.split('/')[-2]+'_EXPORTED')"
   ]
  },
  {
   "cell_type": "code",
   "execution_count": null,
   "metadata": {},
   "outputs": [],
   "source": [
    "['Price:', '$ 20', 'Vendor:', '[View Listings]', 'Playhouse', '+0, 0, ?%', 'New Vendor', 'Payment method:', 'Escrow', 'Ships From:', 'United States', 'Category:', 'Weed', 'Stock Remaining:', '1000008']"
   ]
  },
  {
   "cell_type": "code",
   "execution_count": null,
   "metadata": {},
   "outputs": [],
   "source": [
    "soup = create_soup(path)"
   ]
  },
  {
   "cell_type": "code",
   "execution_count": null,
   "metadata": {},
   "outputs": [],
   "source": [
    "alt = CannaHome"
   ]
  },
  {
   "cell_type": "code",
   "execution_count": null,
   "metadata": {},
   "outputs": [],
   "source": [
    "soup.find('a', {'class': 'btn wide purple arrow-right'}).text == \"View All Vendor's Listings\"\n"
   ]
  },
  {
   "cell_type": "code",
   "execution_count": null,
   "metadata": {},
   "outputs": [],
   "source": [
    "if soup.find('img', {'alt': 'CannaHome'}):\n",
    "    print"
   ]
  }
 ],
 "metadata": {
  "kernelspec": {
   "display_name": "Python 3",
   "language": "python",
   "name": "python3"
  },
  "language_info": {
   "codemirror_mode": {
    "name": "ipython",
    "version": 3
   },
   "file_extension": ".py",
   "mimetype": "text/x-python",
   "name": "python",
   "nbconvert_exporter": "python",
   "pygments_lexer": "ipython3",
   "version": "3.7.4"
  }
 },
 "nbformat": 4,
 "nbformat_minor": 2
}
