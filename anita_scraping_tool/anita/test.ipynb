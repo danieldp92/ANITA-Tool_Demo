{
 "cells": [
  {
   "cell_type": "code",
   "execution_count": 3,
   "metadata": {},
   "outputs": [],
   "source": [
    "import os\n",
    "from bs4 import BeautifulSoup\n",
    "from MarketScraper import MarketIdentifier as market_identifier\n",
    "\n",
    "def get_soup(file_path):\n",
    "    \"\"\"Creates the soup\"\"\"\n",
    "    assert os.path.isfile(file_path)\n",
    "    return BeautifulSoup(open(file_path), \"html.parser\")\n",
    "\n",
    "\n",
    "def determine_market(file_path):\n",
    "    \"\"\"Determine which market the file comes from\n",
    "    Returns the name of the market and False if there is no market is found\"\"\"\n",
    "    try:\n",
    "        soup_file = BeautifulSoup(open(file_path), \"html.parser\")\n",
    "        return market_identifier.identify_market(soup_file).lower()\n",
    "    except ValueError:  # RONALD CHECK!\n",
    "        return False"
   ]
  },
  {
   "cell_type": "code",
   "execution_count": 17,
   "metadata": {},
   "outputs": [],
   "source": [
    "import importlib\n",
    "def initialize_parsers():\n",
    "    '''Initializes all parsers'''\n",
    "    market_list = [file[:-3] for file in list(os.listdir('MarketScraper')) if not (file.startswith('.') or file.startswith('__'))]\n",
    "    parser_dict = {}\n",
    "    for market in market_list:\n",
    "        if market not in ['template', 'MarketIdentifier']:\n",
    "            parser_dict[market] = importlib.import_module('MarketScraper.'+market)\n",
    "    return parser_dict"
   ]
  },
  {
   "cell_type": "code",
   "execution_count": 3,
   "metadata": {},
   "outputs": [
    {
     "data": {
      "text/plain": [
       "['drugsmedicine',\n",
       " 'agartha',\n",
       " 'berlusconi',\n",
       " 'template',\n",
       " 'MarketIdentifier',\n",
       " 'apollon',\n",
       " 'tochka']"
      ]
     },
     "execution_count": 3,
     "metadata": {},
     "output_type": "execute_result"
    }
   ],
   "source": [
    "import os\n",
    "market_list = [file[:-3] for file in list(os.listdir('MarketScraper')) if\n",
    "               not (file.startswith('.') or file.startswith('__'))]\n",
    "market_list"
   ]
  }
 ],
 "metadata": {
  "kernelspec": {
   "display_name": "Python 3",
   "language": "python",
   "name": "python3"
  },
  "language_info": {
   "codemirror_mode": {
    "name": "ipython",
    "version": 3
   },
   "file_extension": ".py",
   "mimetype": "text/x-python",
   "name": "python",
   "nbconvert_exporter": "python",
   "pygments_lexer": "ipython3",
   "version": "3.7.4"
  }
 },
 "nbformat": 4,
 "nbformat_minor": 2
}
