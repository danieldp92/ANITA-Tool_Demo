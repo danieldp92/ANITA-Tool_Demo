{
 "cells": [
  {
   "cell_type": "code",
   "execution_count": 1,
   "metadata": {},
   "outputs": [],
   "source": [
    "import os\n",
    "import sys\n",
    "import shutil\n",
    "import json\n",
    "from bs4 import BeautifulSoup\n",
    "import importlib\n",
    "import datetime\n",
    "import pycountry\n",
    "import requests\n",
    "import time\n",
    "import zipfile\n",
    "\n",
    "import anita.ImportFile as importfile\n",
    "import anita.Scraper as scraper\n",
    "import anita.Merge as merge"
   ]
  },
  {
   "cell_type": "markdown",
   "metadata": {},
   "source": [
    "# Phase 1 Import & Sort\n",
    "When a new folder of items is added. Sort these files over the folders and process.# Phase 1 import HTML files and ZIP"
   ]
  },
  {
   "cell_type": "code",
   "execution_count": null,
   "metadata": {
    "scrolled": false
   },
   "outputs": [],
   "source": [
    "import_path = '' # define path\n",
    "main_target_path = '' # define path\n",
    "\n",
    "importfile.import_files(import_path, main_target_path, delete_files=False)"
   ]
  },
  {
   "cell_type": "markdown",
   "metadata": {},
   "source": [
    "# Phase 2 Scrape the new files\n",
    "The files from the import that are not processed yet need to be scraped"
   ]
  },
  {
   "cell_type": "code",
   "execution_count": null,
   "metadata": {},
   "outputs": [],
   "source": [
    "data = scraper.json(main_target_path)"
   ]
  },
  {
   "cell_type": "markdown",
   "metadata": {},
   "source": [
    "# Phase 3 Merge the new data with existing data"
   ]
  },
  {
   "cell_type": "markdown",
   "metadata": {},
   "source": [
    "## Phase 3A - Merge new (imported) files "
   ]
  },
  {
   "cell_type": "code",
   "execution_count": null,
   "metadata": {},
   "outputs": [],
   "source": [
    "imported_data = merge.merge_items(data)"
   ]
  },
  {
   "cell_type": "markdown",
   "metadata": {},
   "source": [
    "## Phase 3B - Merge and extract with existin JSON files"
   ]
  },
  {
   "cell_type": "code",
   "execution_count": null,
   "metadata": {
    "scrolled": true
   },
   "outputs": [],
   "source": [
    "merge.store_json(imported_data, 'DATA_DEMONSTRATION_PURPOSES/OUTPUT_PHASE_3/')"
   ]
  },
  {
   "cell_type": "markdown",
   "metadata": {},
   "source": [
    "# EXPORTING all data for JSON V2"
   ]
  },
  {
   "cell_type": "code",
   "execution_count": null,
   "metadata": {},
   "outputs": [],
   "source": [
    "import_path = '/Users/ronaldwarmels/Projects/Anita/GIT_ANITA/01_trend analysis/DATA/palmetto/'\n",
    "main_target_path = '/Users/ronaldwarmels/Projects/Anita/GIT_ANITA/01_trend analysis/DATA/PHASE1_OUTPUT/'\n",
    "data_path = '/Users/ronaldwarmels/Projects/Anita/GIT_ANITA/01_trend analysis/DATA/PHASE1_OUTPUT/palmetto/'\n",
    "json_path = '/Users/ronaldwarmels/Projects/Anita/GIT_ANITA/01_trend analysis/DATA/PHASE3_OUTPUT/'"
   ]
  },
  {
   "cell_type": "code",
   "execution_count": 2,
   "metadata": {},
   "outputs": [],
   "source": [
    "path_1 = '/Users/ronaldwarmels/Projects/Anita/GIT_ANITA/01_trend analysis/DATA/NEW_DATA/2020_02_21_dump_to_extract/'\n",
    "path_2 = '/Users/ronaldwarmels/Projects/Anita/GIT_ANITA/01_trend analysis/DATA/NEW_DATA/2020_03_01_dump_to_extract/'\n",
    "path_3 = '/Users/ronaldwarmels/Projects/Anita/GIT_ANITA/01_trend analysis/DATA/NEW_DATA/2020_03_12 blackmarkets/'\n",
    "path_4 = '/Users/ronaldwarmels/Projects/Anita/GIT_ANITA/01_trend analysis/DATA/NEW_DATA/2020_03_31 Agartha (GIorigia)/'\n",
    "path_5 = '/Users/ronaldwarmels/Projects/Anita/GIT_ANITA/01_trend analysis/DATA/NEW_DATA/2020_04_02_11_30_15.765174/'\n",
    "path_6 = '/Users/ronaldwarmels/Projects/Anita/GIT_ANITA/01_trend analysis/DATA/NEW_DATA/2020_04_03_cannazon/'\n",
    "import_paths = [path_1, path_2, path_3, path_4, path_5, path_6]\n",
    "\n",
    "main_target_path = '/Users/ronaldwarmels/Projects/Anita/GIT_ANITA/01_trend analysis/DATA/DATA_RAW/'"
   ]
  },
  {
   "cell_type": "code",
   "execution_count": null,
   "metadata": {},
   "outputs": [],
   "source": [
    "for import_path in import_paths:\n",
    "    print(import_path)\n",
    "    importfile.import_files(import_path, main_target_path, delete_files=True)"
   ]
  },
  {
   "cell_type": "code",
   "execution_count": 4,
   "metadata": {
    "scrolled": true
   },
   "outputs": [
    {
     "name": "stdout",
     "output_type": "stream",
     "text": [
      "/Users/ronaldwarmels/Projects/Anita/GIT_ANITA/01_trend analysis/DATA/DATA_RAW/darkmarket/2020_04_02/\n",
      "Data complete\n",
      "Merge complete\n",
      "Store complete\n",
      "/Users/ronaldwarmels/Projects/Anita/GIT_ANITA/01_trend analysis/DATA/DATA_RAW/silkroad3/2020_03_12/\n",
      "Data complete\n",
      "Merge complete\n",
      "Store complete\n",
      "/Users/ronaldwarmels/Projects/Anita/GIT_ANITA/01_trend analysis/DATA/DATA_RAW/agartha/2019_09_11/\n",
      "Data complete\n",
      "Merge complete\n",
      "Store complete\n",
      "/Users/ronaldwarmels/Projects/Anita/GIT_ANITA/01_trend analysis/DATA/DATA_RAW/agartha/2019_09_18/\n",
      "Data complete\n",
      "Merge complete\n",
      "Store complete\n",
      "/Users/ronaldwarmels/Projects/Anita/GIT_ANITA/01_trend analysis/DATA/DATA_RAW/agartha/2020_03_31/\n",
      "Data complete\n",
      "Merge complete\n",
      "Store complete\n",
      "/Users/ronaldwarmels/Projects/Anita/GIT_ANITA/01_trend analysis/DATA/DATA_RAW/berlusconi/2019_07_19/\n",
      "Data complete\n",
      "Merge complete\n",
      "Store complete\n",
      "/Users/ronaldwarmels/Projects/Anita/GIT_ANITA/01_trend analysis/DATA/DATA_RAW/berlusconi/2019_08_20/\n",
      "Data complete\n",
      "Merge complete\n",
      "Store complete\n",
      "/Users/ronaldwarmels/Projects/Anita/GIT_ANITA/01_trend analysis/DATA/DATA_RAW/berlusconi/2019_08_28/\n",
      "Data complete\n",
      "Merge complete\n",
      "Store complete\n",
      "/Users/ronaldwarmels/Projects/Anita/GIT_ANITA/01_trend analysis/DATA/DATA_RAW/berlusconi/2019_09_04/\n",
      "Data complete\n",
      "Merge complete\n",
      "Store complete\n",
      "/Users/ronaldwarmels/Projects/Anita/GIT_ANITA/01_trend analysis/DATA/DATA_RAW/berlusconi/2019_09_11/\n",
      "Data complete\n",
      "Merge complete\n",
      "Store complete\n",
      "/Users/ronaldwarmels/Projects/Anita/GIT_ANITA/01_trend analysis/DATA/DATA_RAW/berlusconi/2019_09_18/\n",
      "Data complete\n",
      "Merge complete\n",
      "Store complete\n",
      "/Users/ronaldwarmels/Projects/Anita/GIT_ANITA/01_trend analysis/DATA/DATA_RAW/drugsmedicine/2019_08_20/\n",
      "Data complete\n",
      "Merge complete\n",
      "Store complete\n",
      "/Users/ronaldwarmels/Projects/Anita/GIT_ANITA/01_trend analysis/DATA/DATA_RAW/drugsmedicine/2019_08_28/\n",
      "Data complete\n",
      "Merge complete\n",
      "Store complete\n",
      "/Users/ronaldwarmels/Projects/Anita/GIT_ANITA/01_trend analysis/DATA/DATA_RAW/drugsmedicine/2019_09_04/\n",
      "Data complete\n",
      "Merge complete\n",
      "Store complete\n",
      "/Users/ronaldwarmels/Projects/Anita/GIT_ANITA/01_trend analysis/DATA/DATA_RAW/drugsmedicine/2019_09_11/\n",
      "Data complete\n",
      "Merge complete\n",
      "Store complete\n",
      "/Users/ronaldwarmels/Projects/Anita/GIT_ANITA/01_trend analysis/DATA/DATA_RAW/apollon/2019_09_11/\n",
      "Data complete\n",
      "Merge complete\n",
      "Store complete\n",
      "/Users/ronaldwarmels/Projects/Anita/GIT_ANITA/01_trend analysis/DATA/DATA_RAW/apollon/2019_09_18/\n",
      "Data complete\n",
      "Merge complete\n",
      "Store complete\n",
      "/Users/ronaldwarmels/Projects/Anita/GIT_ANITA/01_trend analysis/DATA/DATA_RAW/cannazon/2020_04_03/\n",
      "Data complete\n",
      "Merge complete\n",
      "Store complete\n",
      "/Users/ronaldwarmels/Projects/Anita/GIT_ANITA/01_trend analysis/DATA/DATA_RAW/empiremarket/2020_03_12/\n",
      "Data complete\n",
      "Merge complete\n",
      "Store complete\n",
      "/Users/ronaldwarmels/Projects/Anita/GIT_ANITA/01_trend analysis/DATA/DATA_RAW/tochka/2019_09_11/\n",
      "Data complete\n",
      "Merge complete\n",
      "Store complete\n",
      "/Users/ronaldwarmels/Projects/Anita/GIT_ANITA/01_trend analysis/DATA/DATA_RAW/tochka/2019_09_18/\n",
      "Data complete\n",
      "Merge complete\n",
      "Store complete\n",
      "/Users/ronaldwarmels/Projects/Anita/GIT_ANITA/01_trend analysis/DATA/DATA_RAW/palmetto/2020_02_21/\n",
      "Data complete\n",
      "Merge complete\n",
      "Store complete\n",
      "/Users/ronaldwarmels/Projects/Anita/GIT_ANITA/01_trend analysis/DATA/DATA_RAW/palmetto/2020_03_01/\n",
      "Data complete\n",
      "Merge complete\n",
      "Store complete\n",
      "/Users/ronaldwarmels/Projects/Anita/GIT_ANITA/01_trend analysis/DATA/DATA_RAW/directdrugs/2020_02_21/\n",
      "Data complete\n",
      "Merge complete\n",
      "Store complete\n",
      "/Users/ronaldwarmels/Projects/Anita/GIT_ANITA/01_trend analysis/DATA/DATA_RAW/directdrugs/2020_03_01/\n",
      "Data complete\n",
      "Merge complete\n",
      "Store complete\n",
      "/Users/ronaldwarmels/Projects/Anita/GIT_ANITA/01_trend analysis/DATA/DATA_RAW/cannahome/2019_03_13/\n",
      "Data complete\n",
      "Merge complete\n",
      "Store complete\n",
      "/Users/ronaldwarmels/Projects/Anita/GIT_ANITA/01_trend analysis/DATA/DATA_RAW/cannahome/2020_03_12/\n",
      "Data complete\n",
      "Merge complete\n",
      "Store complete\n",
      "/Users/ronaldwarmels/Projects/Anita/GIT_ANITA/01_trend analysis/DATA/DATA_RAW/drugscenter/2020_02_21/\n",
      "Data complete\n",
      "Merge complete\n",
      "Store complete\n",
      "/Users/ronaldwarmels/Projects/Anita/GIT_ANITA/01_trend analysis/DATA/DATA_RAW/drugscenter/2020_03_01/\n",
      "Data complete\n",
      "Merge complete\n",
      "Store complete\n"
     ]
    }
   ],
   "source": [
    "raw_path = '/Users/ronaldwarmels/Projects/Anita/GIT_ANITA/01_trend analysis/DATA/DATA_RAW/'\n",
    "json_path = '/Users/ronaldwarmels/Projects/Anita/GIT_ANITA/01_trend analysis/DATA/DATA_JSON/OOP_7/'\n",
    "\n",
    "to_scrape_list = []\n",
    "exported = []\n",
    "\n",
    "\n",
    "\n",
    "for market in next(os.walk(raw_path))[1]:\n",
    "    path = raw_path + market \n",
    "    for day in sorted(next(os.walk(path))[1]):\n",
    "        path_to_export = raw_path + market + '/' + day + '/'\n",
    "        to_scrape_list.append(path_to_export)\n",
    "\n",
    "\n",
    "        \n",
    "        \n",
    "for path in to_scrape_list:\n",
    "    if path not in exported:\n",
    "        print(path)\n",
    "        data = scraper.json(path)\n",
    "        print('Data complete')\n",
    "        imported_data = merge.merge_items(data)\n",
    "        print('Merge complete')\n",
    "        merge.store_json(imported_data, json_path)\n",
    "        print('Store complete')\n",
    "        exported.append(path)"
   ]
  },
  {
   "cell_type": "code",
   "execution_count": null,
   "metadata": {},
   "outputs": [],
   "source": [
    "api_response = {'rates': {'2020-03-02': {'USD': 1.1122}}, 'start_at': '2020-03-01', 'base': 'EUR', 'end_at': '2020-03-02'}"
   ]
  },
  {
   "cell_type": "code",
   "execution_count": null,
   "metadata": {},
   "outputs": [],
   "source": [
    "date_1 = '2020-03-01'\n",
    "date_1 in api_response['rates']"
   ]
  },
  {
   "cell_type": "code",
   "execution_count": null,
   "metadata": {},
   "outputs": [],
   "source": [
    "exported"
   ]
  },
  {
   "cell_type": "markdown",
   "metadata": {},
   "source": [
    "# ARCHIVE"
   ]
  },
  {
   "cell_type": "code",
   "execution_count": 2,
   "metadata": {},
   "outputs": [],
   "source": [
    "darkmarket_raw = '/Users/ronaldwarmels/Projects/Anita/GIT_ANITA/01_trend analysis/DATA/DATA_RAW/darkmarket/'\n"
   ]
  },
  {
   "cell_type": "code",
   "execution_count": 3,
   "metadata": {},
   "outputs": [],
   "source": [
    "data = scraper.json(darkmarket_raw)\n",
    "imported_data = merge.merge_items(data)"
   ]
  },
  {
   "cell_type": "code",
   "execution_count": null,
   "metadata": {},
   "outputs": [],
   "source": [
    "imported_data"
   ]
  },
  {
   "cell_type": "code",
   "execution_count": 5,
   "metadata": {},
   "outputs": [
    {
     "name": "stdout",
     "output_type": "stream",
     "text": [
      "Benzos\n",
      "Ritalin\n",
      "Hacking\n",
      "Drivers Licences\n",
      "Ritalin\n",
      "Speed\n",
      "Pharmaceuticals\n",
      "Speed\n",
      "MDMA\n",
      "Steroids\n",
      "MDMA\n",
      "Steroids\n",
      "Steroids\n",
      "Cryptocurrency\n",
      "Ritalin\n",
      "Cryptocurrency\n",
      "Steroids\n",
      "Cannabis\n",
      "Steroids\n",
      "Cocaine\n",
      "Steroids\n",
      "Cryptocurrency\n",
      "None\n",
      "Cryptocurrency\n",
      "Steroids\n",
      "2C\n",
      "Cryptocurrency\n",
      "Speed\n",
      "Pills\n",
      "Pills\n",
      "Steroids\n",
      "Drivers Licences\n",
      "Cryptocurrency\n",
      "LSD\n",
      "Security Software\n",
      "Ritalin\n",
      "Pills\n",
      "MDMA\n",
      "Ritalin\n",
      "Steroids\n",
      "Cryptocurrency\n",
      "Steroids\n",
      "Benzos\n",
      "Ritalin\n",
      "Steroids\n",
      "Cocaine\n",
      "Cryptocurrency\n",
      "Security & Anonymity\n",
      "Ketamine\n",
      "Steroids\n",
      "Steroids\n",
      "Steroids\n",
      "Speed\n",
      "Steroids\n",
      "Steroids\n",
      "Ritalin\n",
      "Steroids\n",
      "Steroids\n",
      "Ritalin\n",
      "Ritalin\n",
      "Steroids\n",
      "Cryptocurrency\n",
      "None\n",
      "Steroids\n",
      "None\n",
      "Dumps\n",
      "Security & Anonymity\n",
      "Ritalin\n",
      "Drivers Licences\n",
      "Ritalin\n",
      "Pills\n",
      "Steroids\n",
      "Ketamine\n",
      "Steroids\n",
      "Cryptocurrency\n",
      "Drivers Licences\n",
      "Steroids\n",
      "Ritalin\n",
      "Cocaine\n",
      "Carding\n",
      "Pills\n",
      "Steroids\n",
      "Drivers Licences\n",
      "Adderall\n",
      "Steroids\n",
      "MDMA\n",
      "MDMA\n",
      "Steroids\n",
      "Cocaine\n",
      "Steroids\n",
      "Ecstasy\n",
      "Steroids\n",
      "Ritalin\n",
      "Steroids\n",
      "None\n",
      "None\n",
      "Steroids\n",
      "Ketamine\n",
      "Steroids\n",
      "E-Books\n",
      "Credit Cards / CVV\n",
      "None\n",
      "Steroids\n",
      "Cryptocurrency\n",
      "Benzos\n",
      "Speed\n",
      "Steroids\n",
      "Steroids\n",
      "Steroids\n",
      "Ritalin\n",
      "Ritalin\n",
      "Steroids\n",
      "Steroids\n",
      "Ritalin\n",
      "Ritalin\n",
      "Steroids\n",
      "Topical & Edibles\n",
      "Steroids\n",
      "Software\n",
      "Steroids\n",
      "E-Books\n",
      "Steroids\n",
      "Hacking\n",
      "Ritalin\n",
      "Carding\n",
      "None\n",
      "Ritalin\n",
      "None\n",
      "Cocaine\n",
      "Topical & Edibles\n",
      "Pills\n",
      "Hacking\n",
      "Benzos\n",
      "Ritalin\n",
      "Drivers Licences\n",
      "Steroids\n",
      "Ritalin\n",
      "Ritalin\n",
      "Buds & Flowers\n",
      "None\n",
      "Steroids\n",
      "Steroids\n",
      "Steroids\n",
      "Cryptocurrency\n",
      "Ritalin\n",
      "Passports\n",
      "Ritalin\n",
      "Ritalin\n",
      "Topical & Edibles\n",
      "Fraud\n",
      "Steroids\n",
      "Topical & Edibles\n",
      "Cryptocurrency\n",
      "Ritalin\n",
      "Steroids\n",
      "Credit Cards / CVV\n",
      "Speed\n",
      "Steroids\n",
      "Drivers Licences\n",
      "Online Accounts\n",
      "Steroids\n",
      "None\n",
      "Credit Cards / CVV\n",
      "Drivers Licences\n",
      "Steroids\n",
      "None\n",
      "Steroids\n",
      "Security & Anonymity\n",
      "Cryptocurrency\n",
      "Ritalin\n",
      "Steroids\n",
      "Hacking\n",
      "Steroids\n",
      "Steroids\n",
      "Speed\n",
      "Drivers Licences\n",
      "Drivers Licences\n",
      "Hacking\n",
      "Speed\n",
      "Ritalin\n",
      "Steroids\n",
      "Drivers Licences\n",
      "Steroids\n",
      "Drivers Licences\n",
      "Steroids\n",
      "Steroids\n",
      "Steroids\n",
      "Drivers Licences\n",
      "E-Books\n",
      "Oxycodone\n",
      "Steroids\n",
      "E-Books\n",
      "Steroids\n",
      "None\n",
      "Methamphetamine\n",
      "Steroids\n",
      "Ritalin\n",
      "Steroids\n",
      "Steroids\n",
      "Steroids\n",
      "Steroids\n",
      "None\n",
      "Ritalin\n",
      "Steroids\n",
      "Steroids\n",
      "Drivers Licences\n",
      "Credit Score / Defaults\n",
      "Steroids\n",
      "Ritalin\n",
      "Steroids\n",
      "Steroids\n",
      "Drivers Licences\n",
      "Hacking\n",
      "Steroids\n",
      "Drivers Licences\n",
      "Steroids\n",
      "Ritalin\n",
      "Speed\n",
      "MDMA\n",
      "Ritalin\n",
      "Credit Cards / CVV\n",
      "Cocaine\n",
      "Benzos\n",
      "Drivers Licences\n",
      "None\n",
      "Steroids\n",
      "Steroids\n",
      "Drivers Licences\n",
      "Steroids\n",
      "Dumps\n",
      "None\n",
      "Steroids\n",
      "Steroids\n",
      "Cryptocurrency\n",
      "Ritalin\n",
      "Benzos\n",
      "Steroids\n",
      "Steroids\n",
      "Drivers Licences\n",
      "Credit Cards / CVV\n",
      "E-Books\n",
      "Drivers Licences\n",
      "E-Books\n",
      "Pills\n",
      "MDMA\n",
      "Cryptocurrency\n",
      "Ritalin\n",
      "Steroids\n",
      "Cryptocurrency\n",
      "Benzos\n",
      "Steroids\n",
      "Carding\n",
      "Drivers Licences\n",
      "Ritalin\n",
      "Steroids\n",
      "Steroids\n",
      "Credit Cards / CVV\n",
      "Drivers Licences\n",
      "Steroids\n",
      "Steroids\n",
      "Steroids\n",
      "Drivers Licences\n",
      "Cryptocurrency\n",
      "Steroids\n",
      "None\n",
      "Benzos\n",
      "Cryptocurrency\n",
      "Steroids\n"
     ]
    }
   ],
   "source": [
    "for page in imported_data:\n",
    "    if imported_data[page]['web_page']['page_type'] == 'product':\n",
    "            print(imported_data[page]['page_data']['micro_category'])"
   ]
  },
  {
   "cell_type": "code",
   "execution_count": null,
   "metadata": {},
   "outputs": [],
   "source": [
    "score = [1611, 110, 0]"
   ]
  },
  {
   "cell_type": "code",
   "execution_count": null,
   "metadata": {},
   "outputs": [],
   "source": [
    "(score[0]*1+score[1]*0+score[2]*0.5)/sum(score)"
   ]
  },
  {
   "cell_type": "code",
   "execution_count": null,
   "metadata": {},
   "outputs": [],
   "source": [
    "merge.store_json(imported_data, '/Users/ronaldwarmels/Projects/Anita/GIT_ANITA/01_trend analysis/DATA/PHASE3_OUTPUT/')"
   ]
  },
  {
   "cell_type": "code",
   "execution_count": null,
   "metadata": {},
   "outputs": [],
   "source": [
    "with open('/Users/ronaldwarmels/Projects/Anita/GIT_ANITA/01_trend analysis/DATA/PHASE3_OUTPUT/berlusconi/2019_08_28/2019_08_28_berlusconi_vendor.txt') as json_file:\n",
    "    data2 = json.load(json_file)\n",
    "for page1 in data2:\n",
    "    if data2[page1]['web_page']['page_type'] == 'product':\n",
    "        print(data2[page1]['page_data']['name'])\n",
    "        for page2 in imported_data:\n",
    "            if imported_data[page2]['web_page']['page_type'] == 'product':\n",
    "                if imported_data[page2]['page_data']['name'] == data2[page1]['page_data']['name']:\n",
    "                    print(imported_data[page2]['page_data']['feedback'])"
   ]
  },
  {
   "cell_type": "code",
   "execution_count": null,
   "metadata": {},
   "outputs": [],
   "source": [
    "for page in data2:\n",
    "    if data2[page]['web_page']['page_type'] == 'vendor':\n",
    "        print(data2[page]['page_data']['pgp'], data2[page]['page_data']['name'])"
   ]
  },
  {
   "cell_type": "code",
   "execution_count": null,
   "metadata": {},
   "outputs": [],
   "source": [
    "data2"
   ]
  },
  {
   "cell_type": "code",
   "execution_count": null,
   "metadata": {},
   "outputs": [],
   "source": [
    "with open('debug', 'w') as outfile:\n",
    "    json.dump(data, outfile)"
   ]
  },
  {
   "cell_type": "code",
   "execution_count": null,
   "metadata": {},
   "outputs": [],
   "source": [
    "test1 = /Users/ronaldwarmels/Projects/Anita/GIT_ANITA/01_trend analysis/DATA/PHASE3_OUTPUT/\n",
    "test2 = /Users/ronaldwarmels/Projects/Anita/GIT_ANITA/01_trend analysis/DATA/PHASE1_OUTPUT/\n"
   ]
  },
  {
   "cell_type": "code",
   "execution_count": null,
   "metadata": {},
   "outputs": [],
   "source": [
    "/Users/ronaldwarmels/Projects/Anita/GIT_ANITA/01_trend analysis/DATA/NEW_DATA/"
   ]
  }
 ],
 "metadata": {
  "kernelspec": {
   "display_name": "Python 3",
   "language": "python",
   "name": "python3"
  },
  "language_info": {
   "codemirror_mode": {
    "name": "ipython",
    "version": 3
   },
   "file_extension": ".py",
   "mimetype": "text/x-python",
   "name": "python",
   "nbconvert_exporter": "python",
   "pygments_lexer": "ipython3",
   "version": "3.7.4"
  },
  "notify_time": "10"
 },
 "nbformat": 4,
 "nbformat_minor": 2
}
